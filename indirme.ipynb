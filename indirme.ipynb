{
 "cells": [
  {
   "cell_type": "code",
   "execution_count": 2,
   "id": "3181530c-7d58-4b9b-82c9-6d298622cc67",
   "metadata": {},
   "outputs": [
    {
     "name": "stdout",
     "output_type": "stream",
     "text": [
      "✅ Dosya başarıyla indirildi: diffusion_models/\"fluxFillFP8_v10.safetensors\"\n"
     ]
    }
   ],
   "source": [
    "import requests\n",
    "import os\n",
    "\n",
    "# 🔹 API Token'ını buraya ekle\n",
    "API_TOKEN = \"46abb721964c220924d2b2494639b831\"\n",
    "\n",
    "# 🔹 İndirme URL'si\n",
    "DOWNLOAD_URL = \"https://civitai.com/api/download/models/1085456?type=Model&format=SafeTensor&size=full&fp=fp8\"\n",
    "\n",
    "# 🔹 Dosyanın kaydedileceği klasör\n",
    "save_dir = \"diffusion_models\"\n",
    "os.makedirs(save_dir, exist_ok=True)  # Klasör yoksa oluştur\n",
    "\n",
    "# 🔹 HTTP istek başlıkları (Authorization ekledik)\n",
    "headers = {\n",
    "    \"Authorization\": f\"Bearer {API_TOKEN}\"\n",
    "}\n",
    "\n",
    "# 🔹 Dosya indirme işlemi\n",
    "response = requests.get(DOWNLOAD_URL, headers=headers, stream=True)\n",
    "\n",
    "if response.status_code == 200:\n",
    "    filename = response.headers.get(\"Content-Disposition\", \"filename=model.safetensors\").split(\"filename=\")[-1]\n",
    "    save_path = os.path.join(save_dir, filename)\n",
    "\n",
    "    with open(save_path, \"wb\") as file:\n",
    "        for chunk in response.iter_content(chunk_size=8192):\n",
    "            file.write(chunk)\n",
    "\n",
    "    print(f\"✅ Dosya başarıyla indirildi: {save_path}\")\n",
    "else:\n",
    "    print(f\"❌ İndirme başarısız! Hata kodu: {response.status_code}\")\n",
    "    print(response.text)  # Hata mesajını göster\n"
   ]
  },
  {
   "cell_type": "code",
   "execution_count": null,
   "id": "2559fe02-c95c-430d-b740-19075bd3668f",
   "metadata": {},
   "outputs": [],
   "source": []
  }
 ],
 "metadata": {
  "kernelspec": {
   "display_name": "Python 3 (ipykernel)",
   "language": "python",
   "name": "python3"
  },
  "language_info": {
   "codemirror_mode": {
    "name": "ipython",
    "version": 3
   },
   "file_extension": ".py",
   "mimetype": "text/x-python",
   "name": "python",
   "nbconvert_exporter": "python",
   "pygments_lexer": "ipython3",
   "version": "3.10.12"
  }
 },
 "nbformat": 4,
 "nbformat_minor": 5
}
